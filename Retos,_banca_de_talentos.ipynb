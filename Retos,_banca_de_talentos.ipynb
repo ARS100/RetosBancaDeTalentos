{
  "nbformat": 4,
  "nbformat_minor": 0,
  "metadata": {
    "colab": {
      "provenance": [],
      "authorship_tag": "ABX9TyNc5nQqjls5ELlvYmh7fbYd",
      "include_colab_link": true
    },
    "kernelspec": {
      "name": "python3",
      "display_name": "Python 3"
    },
    "language_info": {
      "name": "python"
    }
  },
  "cells": [
    {
      "cell_type": "markdown",
      "metadata": {
        "id": "view-in-github",
        "colab_type": "text"
      },
      "source": [
        "<a href=\"https://colab.research.google.com/github/ARS100/RetosBancaDeTalentos/blob/main/Retos%2C_banca_de_talentos.ipynb\" target=\"_parent\"><img src=\"https://colab.research.google.com/assets/colab-badge.svg\" alt=\"Open In Colab\"/></a>"
      ]
    },
    {
      "cell_type": "markdown",
      "source": [
        "# **Alejandro Romero Serrano**"
      ],
      "metadata": {
        "id": "T1Wc9gy2M-p7"
      }
    },
    {
      "cell_type": "markdown",
      "source": [
        "\n",
        "\n",
        "> Code Challenge One\n",
        "\n",
        "\n",
        "Ejercicio # 1\n",
        "\n"
      ],
      "metadata": {
        "id": "c-131RTe8oSj"
      }
    },
    {
      "cell_type": "code",
      "execution_count": null,
      "metadata": {
        "colab": {
          "base_uri": "https://localhost:8080/"
        },
        "id": "RQdjcLFS5FsP",
        "outputId": "624753c9-d1b0-4e2b-b9cd-c133479e8f38"
      },
      "outputs": [
        {
          "output_type": "stream",
          "name": "stdout",
          "text": [
            "[0, 2, 3, 1]\n"
          ]
        }
      ],
      "source": [
        "def code_challenge_one(S, lista):\n",
        "    array = []\n",
        "    for elemento in reversed(lista):\n",
        "      num = elemento\n",
        "      if num > 0:\n",
        "        if num % 10 < S:\n",
        "          array.append(num%10)\n",
        "    return array\n",
        "\n",
        "resultado = code_challenge_one(4, [1, 23, 5, 12, 70, 9234])\n",
        "print(resultado)\n"
      ]
    },
    {
      "cell_type": "markdown",
      "source": [
        "\n",
        "\n",
        "> Code Challenge Two\n",
        "\n",
        "\n",
        "Ejercicio # 2\n",
        "\n"
      ],
      "metadata": {
        "id": "NlSCDKnUNIqS"
      }
    },
    {
      "cell_type": "code",
      "source": [
        "def code_challenge_two(S, array):\n",
        "  result = []\n",
        "  for i in array:\n",
        "    if i**2 < S:\n",
        "      result.append(i**2)\n",
        "\n",
        "  n = len(result)\n",
        "  for i in range(n):\n",
        "    menor = i\n",
        "    for j in range(i + 1, n):\n",
        "      if result[j] < result[menor]:\n",
        "        menor = j\n",
        "\n",
        "    result[i], result[menor] = result[menor], result[i]\n",
        "\n",
        "  return result\n",
        "\n",
        "\n",
        "\n",
        "array = [-4, -2, 0, 1, 3, 5, 9]\n",
        "S = 44\n",
        "val = code_challenge_two(S, array)\n",
        "print(val)"
      ],
      "metadata": {
        "colab": {
          "base_uri": "https://localhost:8080/"
        },
        "id": "QrWenahDhsic",
        "outputId": "697ba375-5e23-495e-baeb-9d18e033dc75"
      },
      "execution_count": null,
      "outputs": [
        {
          "output_type": "stream",
          "name": "stdout",
          "text": [
            "[0, 1, 4, 9, 16, 25]\n"
          ]
        }
      ]
    },
    {
      "cell_type": "markdown",
      "source": [
        "\n",
        "\n",
        "> Code Challenge Three\n",
        "\n",
        "\n",
        "Ejercicio # 3\n",
        "\n"
      ],
      "metadata": {
        "id": "E5S_sXtGpAMv"
      }
    },
    {
      "cell_type": "code",
      "source": [
        "def code_challenge_three(array):\n",
        "  n = len(array)\n",
        "  for i in range(n):\n",
        "    menor = i\n",
        "    for j in range(i + 1, n):\n",
        "      if array[j] < array[menor]:\n",
        "        menor = j\n",
        "\n",
        "    array[i], array[menor] = array[menor], array[i]\n",
        "\n",
        "  change = 1\n",
        "\n",
        "  for i in array:\n",
        "    if i > change:\n",
        "      break\n",
        "    change = change + i\n",
        "\n",
        "\n",
        "  return change\n",
        "\n",
        "array = [5, 7, 1, 1, 2, 3, 22]\n",
        "val = code_challenge_three(array)\n",
        "print(val)"
      ],
      "metadata": {
        "colab": {
          "base_uri": "https://localhost:8080/"
        },
        "id": "KJqebWeLpMv2",
        "outputId": "e70da012-ec03-43af-e098-bd3fa126e2ed"
      },
      "execution_count": null,
      "outputs": [
        {
          "output_type": "stream",
          "name": "stdout",
          "text": [
            "20\n"
          ]
        }
      ]
    }
  ]
}